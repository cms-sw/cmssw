{
 "cells": [
  {
   "cell_type": "markdown",
   "metadata": {},
   "source": [
    "# dEdx weights calculation"
   ]
  },
  {
   "cell_type": "markdown",
   "metadata": {},
   "source": [
    "## Input"
   ]
  },
  {
   "cell_type": "markdown",
   "metadata": {},
   "source": [
    "This notebook expects to find a txt file called \"VolumesZPosition.txt\". This file is coming from the _SimTracker/TrackerMaterialAnalysis_ package. Just for the record, in the old days we used to correct for the Materials with spaces in their name: \n",
    "\n",
    "sed -i -e 's/M_NEMA\\ FR4\\ plate/M_NEMA_FR4_plate/g' VolumesZPosition.txt\n",
    "\n",
    "but ok now we use HGC_G10-FR4."
   ]
  },
  {
   "cell_type": "code",
   "execution_count": null,
   "metadata": {},
   "outputs": [],
   "source": [
    "scenario = \"D88\""
   ]
  },
  {
   "cell_type": "code",
   "execution_count": null,
   "metadata": {},
   "outputs": [],
   "source": [
    "inputfile = \"VolumesZPosition_%s.txt\" % (scenario)"
   ]
  },
  {
   "cell_type": "markdown",
   "metadata": {},
   "source": [
    "## Some imports"
   ]
  },
  {
   "cell_type": "code",
   "execution_count": null,
   "metadata": {},
   "outputs": [],
   "source": [
    "from collections import OrderedDict\n",
    "import numpy as np\n",
    "import pandas as pd\n",
    "from IPython.display import display\n",
    "import matplotlib.pylab as plt\n",
    "import seaborn as sns"
   ]
  },
  {
   "cell_type": "markdown",
   "metadata": {},
   "source": [
    "## Materials Properties"
   ]
  },
  {
   "cell_type": "markdown",
   "metadata": {},
   "source": [
    "### Materials radiation lengths from Chris, Geant (in mm)"
   ]
  },
  {
   "cell_type": "code",
   "execution_count": null,
   "metadata": {},
   "outputs": [],
   "source": [
    "#In mm\n",
    "#-------- \n",
    "FromChrisMatXo = OrderedDict()\n",
    "FromChrisMatXo['Copper'] = 14.36\n",
    "FromChrisMatXo['H_Scintillator'] = 425.4\n",
    "FromChrisMatXo['HGC_Cables'] = 0.\n",
    "#FromChrisMatXo['M_NEMA_FR4_plate'] = 175.\n",
    "#Just duplicate the above in this case\n",
    "FromChrisMatXo['HGC_G10-FR4'] = 175.\n",
    "FromChrisMatXo['Silicon'] = 93.66\n",
    "FromChrisMatXo['Other'] = 0.\n",
    "FromChrisMatXo['Air'] = 300000.\n",
    "FromChrisMatXo['StainlessSteel'] = 17.35\n",
    "FromChrisMatXo['WCu'] = 5.122\n",
    "FromChrisMatXo['Lead'] = 5.612\n",
    "#-------- \n",
    "FromGeantMatXo = OrderedDict()\n",
    "FromGeantMatXo['Copper'] = 14.3559\n",
    "FromGeantMatXo['H_Scintillator'] = 425.393\n",
    "FromGeantMatXo['HGC_Cables'] = 66.722\n",
    "#FromGeantMatXo['M_NEMA_FR4_plate'] = 175.056\n",
    "FromGeantMatXo['HGC_G10-FR4'] = 175.056\n",
    "FromGeantMatXo['Silicon'] = 93.6762\n",
    "FromGeantMatXo['Other'] = 0.\n",
    "FromGeantMatXo['Air'] = 301522.\n",
    "FromGeantMatXo['StainlessSteel'] = 17.3555\n",
    "FromGeantMatXo['WCu'] = 5.1225\n",
    "FromGeantMatXo['Lead'] = 5.6118\n",
    "#-------- \n",
    "df = pd.DataFrame.from_dict([FromChrisMatXo, FromGeantMatXo])\n",
    "df = df.transpose()\n",
    "df.columns = ['FromChris', 'FromGeant']\n",
    "print( '\\033[1m' + '            Radiation Lengths in mm')\n",
    "df"
   ]
  },
  {
   "cell_type": "markdown",
   "metadata": {},
   "source": [
    "### Materials nuclear interaction lengths from Chris, Geant (in mm)"
   ]
  },
  {
   "cell_type": "code",
   "execution_count": null,
   "metadata": {},
   "outputs": [],
   "source": [
    "#In mm\n",
    "#-------- \n",
    "MatNucIntLength = OrderedDict()\n",
    "FromChrisMatNucIntLength = OrderedDict()\n",
    "FromChrisMatNucIntLength['Copper'] = 155.1\n",
    "FromChrisMatNucIntLength['H_Scintillator'] = 701.3\n",
    "FromChrisMatNucIntLength['HGC_Cables'] = 0.\n",
    "#FromChrisMatNucIntLength['M_NEMA_FR4_plate'] = 484.2\n",
    "#Just duplicate the above in this case\n",
    "FromChrisMatNucIntLength['HGC_G10-FR4'] = 484.2\n",
    "FromChrisMatNucIntLength['Silicon'] = 457.5\n",
    "FromChrisMatNucIntLength['Other'] = 0.\n",
    "FromChrisMatNucIntLength['Air'] = 700000\n",
    "FromChrisMatNucIntLength['StainlessSteel'] = 166\n",
    "FromChrisMatNucIntLength['WCu'] = 119.9\n",
    "FromChrisMatNucIntLength['Lead'] = 182.6\n",
    "#-------- \n",
    "FromGeantMatNucIntLength = OrderedDict()\n",
    "FromGeantMatNucIntLength['Copper'] = 155.88\n",
    "FromGeantMatNucIntLength['H_Scintillator'] = 700.034\n",
    "FromGeantMatNucIntLength['HGC_Cables'] = 393.71\n",
    "#FromGeantMatNucIntLength['M_NEMA_FR4_plate'] = 483.429\n",
    "FromGeantMatNucIntLength['HGC_G10-FR4'] = 483.429\n",
    "FromGeantMatNucIntLength['Silicon'] = 456.628\n",
    "FromGeantMatNucIntLength['Other'] = 0.\n",
    "FromGeantMatNucIntLength['Air'] = 704083\n",
    "FromGeantMatNucIntLength['StainlessSteel'] = 166.272\n",
    "FromGeantMatNucIntLength['WCu'] = 120.105\n",
    "FromGeantMatNucIntLength['Lead'] = 182.472\n",
    "#-------- \n",
    "df = pd.DataFrame.from_dict([FromChrisMatNucIntLength, FromGeantMatNucIntLength])\n",
    "df = df.transpose()\n",
    "df.columns = ['FromChris', 'FromGeant']\n",
    "print( '\\033[1m' + '            Nuclear interaction Lengths in mm')\n",
    "df"
   ]
  },
  {
   "cell_type": "markdown",
   "metadata": {},
   "source": [
    "### Materials dEdx from PDG, Chris, Geant (in MeV/mm)"
   ]
  },
  {
   "cell_type": "code",
   "execution_count": null,
   "metadata": {},
   "outputs": [],
   "source": [
    "#First in MeV gr^-1 cm^2 and at the end will convert to MeV/mm\n",
    "dEdx = OrderedDict()\n",
    "#In gr/cm^3 \n",
    "rho = OrderedDict()\n",
    "#--------\n",
    "#Some elements necessary to build our materials\n",
    "#Note: Whenever in PDG values (2018) are given in more than one state (e.g gas, liquid)\n",
    "#we go to the materials.xml file and choose the corresponding value. \n",
    "dEdx['Fe'] = 1.451\n",
    "dEdx['Mn'] = 1.428\n",
    "dEdx['Cr'] = 1.456\n",
    "dEdx['Ni'] = 1.468\n",
    "dEdx['C']  = 1.745\n",
    "dEdx['0']  = 1.801 \n",
    "dEdx['H']  = 4.034\n",
    "dEdx['Br'] = 1.380\n",
    "dEdx['W']  = 1.145\n",
    "dEdx['N']  = 1.813\n",
    "dEdx['Al'] = 1.615\n",
    "\n",
    "\n",
    "#-------- \n",
    "rho['Fe'] = 7.874 \n",
    "rho['Mn'] = 7.440 \n",
    "rho['Cr'] = 7.180\n",
    "rho['Ni'] = 8.902 \n",
    "rho['C']  = 2.265 \n",
    "rho['0']  = 1.43**-3 #Here we choose the materials.xml value.\n",
    "rho['H']  = 0.07080\n",
    "rho['Br'] = 3.103 \n",
    "rho['W']  = 19.30 \n",
    "rho['N']  = 0.8070  \n",
    "rho['Ar'] = 1.639**-3 #Here we choose the materials.xml value. \n",
    "rho['Al'] = 2.7\n",
    "\n",
    "#--------\n",
    "#Detector materials (From PDG and Geometry/CMSCommonData/data/materials.xml)\n",
    "#You need a measurement of the density for a compound which we take from the same file\n",
    "dEdx['Epoxy'] = 0.53539691*dEdx['C'] + 0.13179314*dEdx['H'] + 0.33280996*dEdx['0']\n",
    "rho['Epoxy'] = 1.3\n",
    "\n",
    "dEdx['Kapton'] = 0.59985105*dEdx['C'] + 0.080541353*dEdx['H'] + 0.31960759*dEdx['0']\n",
    "rho['Kapton'] = 1.11\n",
    "\n",
    "dEdx['Copper'] = 1.403\n",
    "rho['Copper'] = 8.960\n",
    "\n",
    "dEdx['H_Scintillator'] = 0.91512109*dEdx['C'] + 0.084878906*dEdx['H']\n",
    "rho['H_Scintillator'] = 1.032\n",
    "\n",
    "dEdx['Silicon'] = 1.664\n",
    "rho['Silicon'] = 2.329\n",
    "\n",
    "#dEdx['M_NEMA_FR4_plate'] = 0.18077359*dEdx['Silicon'] + 0.4056325*dEdx['0'] + 0.27804208*dEdx['C'] + 0.068442752*dEdx['H'] + 0.067109079*dEdx['Br']\n",
    "#rho['M_NEMA_FR4_plate'] = 1.025\n",
    "dEdx['HGC_G10-FR4'] = 0.18077359*dEdx['Silicon'] + 0.4056325*dEdx['0'] + 0.27804208*dEdx['C'] + 0.068442752*dEdx['H'] + 0.067109079*dEdx['Br']\n",
    "rho['HGC_G10-FR4'] = 1.70\n",
    "\n",
    "\n",
    "dEdx['Other'] = 0.\n",
    "rho['Other'] = 0.\n",
    "\n",
    "#dEdx['Air'] = 0.7494*dEdx['N'] + 0.2369*dEdx['0'] + 0.0129*dEdx['Ar'] + 0.0008*dEdx['H']\n",
    "dEdx['Air'] = 0.\n",
    "rho['Air'] = 1.214**-3\n",
    "\n",
    "dEdx['StainlessSteel'] = 0.6996*dEdx['Fe']+0.01*dEdx['Mn']+0.19*dEdx['Cr']+0.1*dEdx['Ni']+0.0004*dEdx['C'];\n",
    "rho['StainlessSteel'] = 8.02\n",
    "\n",
    "dEdx['WCu'] = 0.75*dEdx['W']+0.25*dEdx['Copper']\n",
    "rho['WCu'] = 14.979\n",
    "\n",
    "dEdx['Lead'] = 1.122 #Pb\n",
    "rho['Lead'] = 11.35  #Pb\n",
    "\n",
    "dEdx['HGC_Cables'] = 0.586*dEdx['Copper'] + 0.259*dEdx['C'] + 0.138*dEdx['0'] + 0.017*dEdx['H']\n",
    "rho['HGC_Cables'] = 2.68\n",
    "\n",
    "#Two new elements but at this moment they are Air\n",
    "dEdx['HGC_EEConnector'] = 0.\n",
    "rho['HGC_EEConnector'] = 1.214**-3\n",
    "\n",
    "dEdx['HGC_HEConnector'] = 0.\n",
    "rho['HGC_HEConnector'] = 1.214**-3\n",
    "\n",
    "dEdx['Polystyrene'] = 0.91512109*dEdx['C'] + 0.084878906*dEdx['H']\n",
    "rho['Polystyrene'] = 1.032\n",
    "\n",
    "#--------\n",
    "# Now to the calculation. First, we will loop through the composite materials, not \n",
    "# to mess with the elements. \n",
    "composite_materials = ['HGC_Cables','Epoxy','Kapton','StainlessSteel','M_NEMA_FR4_plate','H_Scintillator', 'Air', 'WCu','HGC_EEConnector','HGC_HEConnector','Polystyrene']\n",
    "for element in dEdx: \n",
    "    if element not in composite_materials: continue\n",
    "    dEdx[element] = (rho[element] * dEdx[element]) / 10.\n",
    "#And for the rest\n",
    "for element in dEdx: \n",
    "    if element in composite_materials: continue\n",
    "    dEdx[element] = (rho[element] * dEdx[element]) / 10.\n",
    "\n",
    "\n",
    "#--------\n",
    "FromChrisdEdx = OrderedDict()\n",
    "FromChrisdEdx['Copper'] = 1.26\n",
    "FromChrisdEdx['H_Scintillator'] = 0.395\n",
    "FromChrisdEdx['Epoxy'] = 0.\n",
    "FromChrisdEdx['Kapton'] = 0.\n",
    "FromChrisdEdx['HGC_Cables'] = 0.\n",
    "FromChrisdEdx['Al'] = 0.\n",
    "#FromChrisdEdx['M_NEMA_FR4_plate'] = 0.322\n",
    "#Just duplicate the above\n",
    "FromChrisdEdx['HGC_G10-FR4'] = 0.322\n",
    "FromChrisdEdx['Silicon'] = 0.388\n",
    "FromChrisdEdx['Other'] = 0.\n",
    "FromChrisdEdx['Air'] = 0.\n",
    "FromChrisdEdx['StainlessSteel'] = 1.14\n",
    "FromChrisdEdx['WCu'] = 1.81\n",
    "FromChrisdEdx['Lead'] = 1.27\n",
    "#-------- \n",
    "#The range below is from commands like: \n",
    "# Always recheck columns in txt, so that array is pointing to desired column. \n",
    "#array=($(cat VolumesZPosition.txt | grep Copper | awk '{print $7}'))\n",
    "#IFS=$'\\n'\n",
    "#Highest value\n",
    "#echo \"${array[*]}\" | sort -nr | head -n1\n",
    "#Lowest value\n",
    "#echo \"${array[*]}\" | sort -nr | tail -n1\n",
    "\n",
    "FromGeantdEdxWithGetDEDX = OrderedDict()\n",
    "FromGeantdEdxWithGetDEDX['Copper'] = \"1.14494 - 1.19191\"\n",
    "FromGeantdEdxWithGetDEDX['H_Scintillator'] = \"0.155602 - 0.156968\"\n",
    "FromGeantdEdxWithGetDEDX['HGC_Cables'] = \"0.334163 - 0.343928\"\n",
    "#FromGeantdEdxWithGetDEDX['M_NEMA_FR4_plate'] = \"0.200079 - 0.203959\"\n",
    "FromGeantdEdxWithGetDEDX['Epoxy'] = 0.\n",
    "FromGeantdEdxWithGetDEDX['Kapton'] = 0.\n",
    "FromGeantdEdxWithGetDEDX['Al'] = 0.\n",
    "FromGeantdEdxWithGetDEDX['HGC_G10-FR4'] = \"0.200079 - 0.203959\"\n",
    "FromGeantdEdxWithGetDEDX['Silicon'] = \"0.298729 - 0.349232\"\n",
    "FromGeantdEdxWithGetDEDX['Other'] = 0.\n",
    "FromGeantdEdxWithGetDEDX['Air'] = \"0.000162487 - 0.000200878\"\n",
    "FromGeantdEdxWithGetDEDX['StainlessSteel'] = \"1.17868 - 1.24005\"\n",
    "FromGeantdEdxWithGetDEDX['WCu'] = \"1.4676 - 1.54044\"\n",
    "FromGeantdEdxWithGetDEDX['Lead'] = \"1.28276 - 1.39512\"\n",
    "#-------- \n",
    "#The range below is from commands like: \n",
    "# Always recheck columns in txt, so that array is pointing to desired column. \n",
    "#array=($(cat VolumesZPosition.txt | grep Copper | awk '{print $9}'))\n",
    "#IFS=$'\\n'\n",
    "#Highest value\n",
    "#echo \"${array[*]}\" | sort -nr | head -n1\n",
    "#Lowest value\n",
    "#echo \"${array[*]}\" | sort -nr | tail -n1\n",
    "FromGeantdEdxWithComputeTotalDEDX = OrderedDict()\n",
    "FromGeantdEdxWithComputeTotalDEDX['Copper'] = \"1.25937 - 1.51496\"\n",
    "FromGeantdEdxWithComputeTotalDEDX['H_Scintillator'] = \"0.212843 - 0.230636\"\n",
    "FromGeantdEdxWithComputeTotalDEDX['HGC_Cables'] = \"0.458855 - 0.507352\"\n",
    "#FromGeantdEdxWithComputeTotalDEDX['M_NEMA_FR4_plate'] = \"0.319344 - 0.364818\"\n",
    "FromGeantdEdxWithComputeTotalDEDX['Epoxy'] = 0.\n",
    "FromGeantdEdxWithComputeTotalDEDX['Kapton'] = 0.\n",
    "FromGeantdEdxWithComputeTotalDEDX['Al'] = 0.\n",
    "FromGeantdEdxWithComputeTotalDEDX['HGC_G10-FR4'] = \"0.319344 - 0.364818\"\n",
    "FromGeantdEdxWithComputeTotalDEDX['Silicon'] = \"0.38849 - 0.442262\"\n",
    "FromGeantdEdxWithComputeTotalDEDX['Other'] = 0.\n",
    "FromGeantdEdxWithComputeTotalDEDX['Air'] = \"0.000221838 - 0.000303024\"\n",
    "FromGeantdEdxWithComputeTotalDEDX['StainlessSteel'] = \"1.18145 - 1.40497\"\n",
    "FromGeantdEdxWithComputeTotalDEDX['WCu'] = \"1.85741 - 2.18222\"\n",
    "FromGeantdEdxWithComputeTotalDEDX['Lead'] = \"1.28388 - 1.52941\"\n",
    "#-------- \n",
    "df = pd.DataFrame.from_dict([dEdx,FromChrisdEdx, FromGeantdEdxWithGetDEDX, FromGeantdEdxWithComputeTotalDEDX])\n",
    "df = df.transpose()[10:]\n",
    "df.columns = ['FromPDG','FromChris', 'FromGeantWithGetDEDX', 'FromGeantWithComputeTotalDEDX']\n",
    "print( '\\033[1m' + '                              dEdx in MeV/mm')\n",
    "df"
   ]
  },
  {
   "cell_type": "markdown",
   "metadata": {},
   "source": [
    "### Choice for radiation lengths values -> Geant values"
   ]
  },
  {
   "cell_type": "code",
   "execution_count": null,
   "metadata": {},
   "outputs": [],
   "source": [
    "# Current choice -> Geant values\n",
    "#In mm\n",
    "MatXo = OrderedDict()\n",
    "MatXo['Copper'] = 14.3559\n",
    "MatXo['H_Scintillator'] = 425.393\n",
    "MatXo['HGC_Cables'] = 66.722\n",
    "MatXo['Epoxy'] = 315.901\n",
    "MatXo['Kapton'] = 365.309\n",
    "#MatXo['M_NEMA_FR4_plate'] = 175.056\n",
    "MatXo['HGC_G10-FR4'] = 175.056\n",
    "MatXo['Silicon'] = 93.6762\n",
    "MatXo['Other'] = 0.\n",
    "MatXo['Air'] = 301522.\n",
    "MatXo['StainlessSteel'] = 17.3555\n",
    "MatXo['WCu'] = 5.1225\n",
    "MatXo['Lead'] = 5.6118\n",
    "#Definitions below is the same as with Air at the moment\n",
    "MatXo['HGC_EEConnector'] = 301522.\n",
    "MatXo['HGC_HEConnector'] = 301522.\n",
    "#Polystyrene definition same as H_Scintillator at the moment \n",
    "MatXo['Polystyrene'] = 425.393"
   ]
  },
  {
   "cell_type": "code",
   "execution_count": null,
   "metadata": {},
   "outputs": [],
   "source": [
    "# Let's read the input file\n",
    "# Mat is prepoint material, Z is post point material start, so \n",
    "# upper edge of prepoint material. Etable,Efull is the energy loss in the \n",
    "# prepoint volume with GetDEDX and ComputeTotalDEDX.  \n",
    "matZ = pd.read_csv(inputfile, sep=\" \", header=None, names=[\"Mat\", \"Z\", \"Eta\", \"R\", \"Etable\", \"Efull\"], index_col=False)"
   ]
  },
  {
   "cell_type": "code",
   "execution_count": null,
   "metadata": {},
   "outputs": [],
   "source": [
    "# We will make a new column with the physical thickness of the volumes in mm\n",
    "matZ[\"PhysThickInmm\"] = abs(matZ[\"Z\"].shift(-1) -  matZ[\"Z\"])\n",
    "matZ[\"PhysThickInmm\"] = matZ[\"PhysThickInmm\"].shift(1)"
   ]
  },
  {
   "cell_type": "code",
   "execution_count": null,
   "metadata": {},
   "outputs": [],
   "source": [
    "# We will add a column that indicates the track the relevant volume belongs to. \n",
    "# The logic is that right before the next track \"PhysThickInmm\" column will be \n",
    "# very large. \n",
    "matZ[\"trackflag\"] = matZ.apply(lambda row: True if row[\"PhysThickInmm\"] < 2000. else False ,axis=1)\n",
    "matZ[\"tracknum\"] = (( matZ[\"trackflag\"] == False) & (matZ[\"trackflag\"].shift() == True)).cumsum()\n",
    "matZ[\"tracknum\"] = matZ[\"tracknum\"].shift(1)\n",
    "matZ = matZ.drop('trackflag', 1)"
   ]
  },
  {
   "cell_type": "code",
   "execution_count": null,
   "metadata": {},
   "outputs": [],
   "source": [
    "# Now that we have the tracknum we will not let the last Copper volume to \n",
    "# its huge thickness due to track change. According to TDR BH back is at 5137.7 mm \n",
    "# so we put 6.0 mm for that Copper. In any case this do *not* effect the \n",
    "# dEdx weights calculation since it is after the sensitive material of the last layer. \n",
    "# UPDATE: Seems that now last volume is SS. No effect but in any case we put 35/66 mm -> 35\n",
    "matZ.loc[ matZ[\"PhysThickInmm\"] > 2000. , \"PhysThickInmm\" ] = 35.0"
   ]
  },
  {
   "cell_type": "code",
   "execution_count": null,
   "metadata": {},
   "outputs": [],
   "source": [
    "# The line below is when comparing with Chris which has no HGC_Cables. \n",
    "# matZ = matZ.query('Mat != \"HGC_Cables\"')\n",
    "\n",
    "# Again, adding a new column with the physical thickness of the volumes in radiation lengths\n",
    "matZ[\"PhysThickInXo\"] = matZ.apply(lambda row: row[\"PhysThickInmm\"] / MatXo[row[\"Mat\"]],axis=1)"
   ]
  },
  {
   "cell_type": "code",
   "execution_count": null,
   "metadata": {},
   "outputs": [],
   "source": [
    "# Adding a new column with the dEdx of the material that the volumes is build\n",
    "matZ[\"dEdx\"] = matZ.apply(lambda row: dEdx[row[\"Mat\"]],axis=1)"
   ]
  },
  {
   "cell_type": "code",
   "execution_count": null,
   "metadata": {},
   "outputs": [],
   "source": [
    "# Another column with the dEdx times thickness to help us with the calculation of the \n",
    "# final dEdx weights \n",
    "matZ[\"dEdxtimesdx\"] = matZ[\"dEdx\"] * matZ[\"PhysThickInmm\"]"
   ]
  },
  {
   "cell_type": "code",
   "execution_count": null,
   "metadata": {},
   "outputs": [],
   "source": [
    "# And here a column with the cumulative sum\n",
    "matZ[\"dEdxtimesdxCum\"] = matZ.groupby('tracknum')[\"dEdxtimesdx\"].cumsum()"
   ]
  },
  {
   "cell_type": "code",
   "execution_count": null,
   "metadata": {},
   "outputs": [],
   "source": [
    "# And here a column with the cumulative sum for Etable\n",
    "matZ[\"EtableCum\"] = matZ.groupby('tracknum')[\"Etable\"].cumsum()"
   ]
  },
  {
   "cell_type": "code",
   "execution_count": null,
   "metadata": {},
   "outputs": [],
   "source": [
    "# And here a column with the cumulative sum for Efull\n",
    "matZ[\"EfullCum\"] = matZ.groupby('tracknum')[\"Efull\"].cumsum()"
   ]
  },
  {
   "cell_type": "code",
   "execution_count": null,
   "metadata": {},
   "outputs": [],
   "source": [
    "# And here a column for the cumulative sum in radiation length \n",
    "matZ[\"PhysThickInXoCum\"] = matZ.groupby('tracknum')[\"PhysThickInXo\"].cumsum()"
   ]
  },
  {
   "cell_type": "code",
   "execution_count": null,
   "metadata": {},
   "outputs": [],
   "source": [
    "# We will add a column that indicates the layer the relevant volume belongs to. \n",
    "# The logic is that if the previous material is Silicon or Scintillator\n",
    "# we change layer.\n",
    "matZ[\"layerflag\"] = matZ.apply(lambda row: False if row[\"Mat\"] == \"Silicon\" or row[\"Mat\"] == \"H_Scintillator\" else True ,axis=1)\n",
    "matZ[\"layer\"] = ( matZ[\"layerflag\"] == True) & (matZ[\"layerflag\"].shift(1) == False) \n",
    "matZ[\"layer\"] = matZ.groupby('tracknum')[\"layer\"].cumsum()\n",
    "#The convention is that layers starts from 1\n",
    "matZ[\"layer\"] = matZ.apply(lambda row: row[\"layer\"] + 1,axis=1)"
   ]
  },
  {
   "cell_type": "code",
   "execution_count": null,
   "metadata": {},
   "outputs": [],
   "source": [
    "# Drop auxillary columns\n",
    "#We need layerflag for not counting the silicon/scintillator in the dedx. \n",
    "#matZ = matZ.drop('layerflag', 1)"
   ]
  },
  {
   "cell_type": "code",
   "execution_count": null,
   "metadata": {},
   "outputs": [],
   "source": [
    "# This was my misunderstanding. There should be 53 in the layers column since \n",
    "# after the last scintillator or silicon the index will increase, there is \n",
    "# material there. In case we want to filter them out uncomment the following. \n",
    "# Be careful! Filter chooses and not disgards!\n",
    "# matZ = matZ.groupby('tracknum').filter(lambda g: ~(g['layer'] == 53.0).any()  ) "
   ]
  },
  {
   "cell_type": "code",
   "execution_count": null,
   "metadata": {},
   "outputs": [],
   "source": [
    "#display(matZ)\n",
    "#matZ[(matZ[\"layer\"] == 1) & matZ[\"tracknum\"] == 20]\n",
    "pd.set_option('display.max_columns', None)\n",
    "pd.set_option('display.max_rows', None)\n",
    "#matZ[(matZ[\"tracknum\"] == 6.0)]\n",
    "matZ = matZ.dropna()\n",
    "#matZ[ (matZ['tracknum'] == 6.0) &  (matZ[\"layer\"] == 46) ]\n",
    "#matZ[(matZ[\"Mat\"] == \"Kapton\") & (matZ[\"tracknum\"] == 2.0)]\n",
    "#matZ[(matZ[\"Mat\"] == \"HGC_Cables\")]\n",
    "#matZ[(matZ[\"Mat\"] == \"HGC_Cables\") & (matZ[\"layer\"] == 43)]\n",
    "#matZ[(matZ[\"Mat\"] == \"Air\") & (abs(matZ[\"eta\"]) > 1.5) & (abs(matZ[\"eta\"]) < 2.0)]\n",
    "#matZ[ (matZ[\"Z\"] > 3650) & (matZ[\"Z\"] < 3700) & (matZ[\"Mat\"] == \"Silicon\") & (matZ[\"R\"] < 900)]\n",
    "#matZ[ (matZ[\"Z\"] > 3594) & (matZ[\"Z\"] < 3700) & (matZ[\"tracknum\"] == 4)]\n",
    "#matZ[ (matZ[\"Mat\"] == \"Copper\") & (matZ[\"Z\"] > 3600) & (matZ[\"Z\"] < 3750) & (matZ[\"tracknum\"] == 4) ]\n",
    "#matZ[ (matZ[\"Mat\"] == \"Copper\") & (matZ[\"Z\"] > 4000) & (matZ[\"Z\"] < 4750) & (matZ[\"tracknum\"] == 4) ]\n",
    "#matZ[ (matZ[\"Z\"] > 4000) & (matZ[\"Z\"] < 4750) & (matZ[\"tracknum\"] == 7) ]\n",
    "#matZ[ (matZ[\"Mat\"] == \"Lead\") & (matZ[\"tracknum\"] == 4) ]\n",
    "#matZ[ (matZ[\"Mat\"] == \"H_Scintillator\")  ]\n",
    "#matZ[ (matZ[\"Mat\"] == \"HGC_Cables\")  ]\n",
    "#matZ[ (matZ[\"Z\"] > 3210) & (matZ[\"Z\"] < 3350) & (matZ[\"tracknum\"] == 4) ]\n",
    "#matZ[ (matZ[\"Z\"] > 3650) & (matZ[\"Z\"] < 3700) & (matZ[\"tracknum\"] == 4) ]\n",
    "#matZ[ (matZ[\"Z\"] > 4750) & (matZ[\"Z\"] < 5250) & (matZ[\"tracknum\"] == 18) ]\n",
    "#matZ[ (matZ[\"Mat\"] == \"Copper\") & (matZ[\"Z\"] > 3210) & (matZ[\"Z\"] < 3650) & (matZ[\"tracknum\"] == 4) & (matZ[\"PhysThickInmm\"] > 5. )]\n",
    "#matZ[ (matZ[\"Z\"] > 4550) & (matZ[\"Z\"] < 4650)& (matZ[\"tracknum\"] == 18)]\n",
    "#matZ[ (matZ[\"Z\"] > 4290) & (matZ[\"Z\"] < 4350) & (matZ[\"Mat\"] == \"Epoxy\")]         \n",
    "#matZ[ (matZ[\"Z\"] > 4290) & (matZ[\"Z\"] < 4650) & (matZ[\"Mat\"] == \"H_Scintillator\")]\n",
    "#matZ[ (matZ[\"Z\"] > 4290) & (matZ[\"Z\"] < 4650) & (matZ[\"Mat\"] == \"Silicon\")]\n",
    "#matZ[ (matZ[\"Mat\"] == \"Silicon\") & (matZ[\"tracknum\"] == 6) ]\n",
    "#matZ[ (matZ[\"Mat\"] == \"H_Scintillator\") & (matZ[\"tracknum\"] == 18) ]\n",
    "#matZ[ (matZ[\"Mat\"] == \"HGC_G10-FR4\") & (matZ[\"tracknum\"] == 4) ]\n",
    "#matZ[ (matZ[\"Mat\"] == \"Silicon\") & (matZ[\"Z\"] < 3900) & (matZ[\"Z\"] > 0) & (matZ[\"PhysThickInmm\"] > 0.22)]\n",
    "#matZ[ (matZ[\"Mat\"] == \"Silicon\") & (matZ[\"layer\"] > 28) & (matZ[\"layer\"] < 36)& (matZ[\"PhysThickInmm\"] < 0.22)]\n",
    "#matZ[matZ[\"layer\"] >= 0]\n",
    "#matZ[(matZ[\"Mat\"] == \"WCu\") & (matZ[\"Z\"] > 3950) & (matZ[\"Z\"] < 4000)]"
   ]
  },
  {
   "cell_type": "code",
   "execution_count": null,
   "metadata": {},
   "outputs": [],
   "source": [
    "# We will make a new column with the cassete space in mm\n",
    "outforSS = matZ[ (matZ[\"Mat\"] == 'StainlessSteel') & (matZ[\"PhysThickInmm\"] != 2.5) & (matZ[\"tracknum\"] == 4) ]\n",
    "outforSS\n",
    "abs(outforSS[\"Z\"].shift(-1) -  outforSS[\"Z\"]).shift(1)\n",
    "#outforSS[\"CasseteSpace\"] = abs(outforSS[\"Z\"].shift(-1) -  outforSS[\"Z\"])\n",
    "#outforSS[\"PhysThickInmm\"] = outforSS[\"PhysThickInmm\"].shift(1)"
   ]
  },
  {
   "cell_type": "code",
   "execution_count": null,
   "metadata": {},
   "outputs": [],
   "source": [
    "#I will save here the thicknesses to be able to see the differences in files\n",
    "for themat in ['Copper','Polystyrene','HGC_EEConnector','HGC_HEConnector','H_Scintillator','HGC_Cables','Epoxy','Kapton','HGC_G10-FR4','Silicon','Other','Air','StainlessSteel','WCu','Lead']:\n",
    "    outtofile = matZ[ (matZ[\"Mat\"] == themat) & (matZ[\"tracknum\"] == 7) ]\n",
    "    outtofile[[\"Mat\",\"Z\",\"PhysThickInmm\",\"tracknum\",\"layer\"]].round(3).to_csv(r'/eos/user/a/apsallid/www/material_%s_%s.txt' %(themat,scenario), index=None, sep=' ', mode='w')\n",
    "\n",
    "#matZ[matZ[\"Z\"]>0]\n",
    "#matZ[matZ[\"PhysThickInmm\"]> 2000.]\n",
    "#matZ[matZ[\"tracknum\"] == 2 ]\n",
    "#matZ[ (matZ[\"tracknum\"] == 20) & (matZ[\"layer\"] > 10) ]\n",
    "#matZ[450:500]\n",
    "#For the cumulative material in front of layers. \n",
    "newmatZ = matZ[ (matZ['tracknum'] == 6.0) & (matZ['layerflag'] == True) & (matZ['layerflag'].shift(-1) == False)]\n",
    "newmatZ[['layer', 'PhysThickInXoCum']]\n",
    "newmatZ[['layer', 'PhysThickInXoCum']].round(3).to_csv(r'/eos/user/a/apsallid/www/%s.cumulative.xo'%(scenario), header=None, index=None, sep=' ', mode='w')"
   ]
  },
  {
   "cell_type": "code",
   "execution_count": null,
   "metadata": {},
   "outputs": [],
   "source": [
    "# The dEdx weights calculation doesn't include the sensitive material. \n",
    "matZ = matZ.drop(matZ[ (matZ.Mat == \"Silicon\") | (matZ.Mat == \"H_Scintillator\") ].index)"
   ]
  },
  {
   "cell_type": "code",
   "execution_count": null,
   "metadata": {},
   "outputs": [],
   "source": [
    "# We will add a column with the dedx weights. First dedxtimesdx sum per layer \n",
    "# This is with the theoretical dedx\n",
    "mdEdxtimesdxsumperlayer = matZ.groupby(['tracknum','layer'])[\"dEdxtimesdx\"].sum()\n",
    "# And now with the detailed simulation\n",
    "mdEdxtimesdxsumperlayer_detailedtable = matZ.groupby(['tracknum','layer'])[\"Etable\"].sum()\n",
    "mdEdxtimesdxsumperlayer_detailedfull = matZ.groupby(['tracknum','layer'])[\"Efull\"].sum()\n",
    "\n",
    "#type(mdEdxtimesdxsumperlayer)\n",
    "mdEdxtimesdxsumperlayer = mdEdxtimesdxsumperlayer.to_frame().reset_index()\n",
    "mdEdxtimesdxsumperlayer_detailedtable = mdEdxtimesdxsumperlayer_detailedtable.to_frame().reset_index()\n",
    "mdEdxtimesdxsumperlayer_detailedfull = mdEdxtimesdxsumperlayer_detailedfull.to_frame().reset_index()\n",
    "\n",
    "#mdEdxtimesdxsumperlayer\n",
    "#type(mdEdxtimesdxsumperlayer)"
   ]
  },
  {
   "cell_type": "code",
   "execution_count": null,
   "metadata": {},
   "outputs": [],
   "source": [
    "#Let's put also the accumulated energy loss\n",
    "mdEdxtimesdxsumperlayer[\"dEdxtimesdxCum\"] = mdEdxtimesdxsumperlayer.groupby('tracknum')[\"dEdxtimesdx\"].cumsum()\n",
    "mdEdxtimesdxsumperlayer_detailedtable[\"EtableCum\"] = mdEdxtimesdxsumperlayer_detailedtable.groupby('tracknum')[\"Etable\"].cumsum()\n",
    "mdEdxtimesdxsumperlayer_detailedfull[\"EfullCum\"] = mdEdxtimesdxsumperlayer_detailedfull.groupby('tracknum')[\"Efull\"].cumsum()"
   ]
  },
  {
   "cell_type": "code",
   "execution_count": null,
   "metadata": {},
   "outputs": [],
   "source": [
    "#Final weights\n",
    "mdEdxtimesdxsumperlayer[\"dedxweights\"] = (mdEdxtimesdxsumperlayer[\"dEdxtimesdx\"] + mdEdxtimesdxsumperlayer[\"dEdxtimesdx\"].shift(-1))/2\n",
    "mdEdxtimesdxsumperlayer_detailedtable[\"dedxweights_detailedsimulationtable\"] = (mdEdxtimesdxsumperlayer_detailedtable[\"Etable\"] + mdEdxtimesdxsumperlayer_detailedtable[\"Etable\"].shift(-1))/2\n",
    "mdEdxtimesdxsumperlayer_detailedfull[\"dedxweights_detailedsimulationfull\"] = (mdEdxtimesdxsumperlayer_detailedfull[\"Efull\"] + mdEdxtimesdxsumperlayer_detailedfull[\"Efull\"].shift(-1))/2"
   ]
  },
  {
   "cell_type": "code",
   "execution_count": null,
   "metadata": {},
   "outputs": [],
   "source": [
    "#Hack for the last layer\n",
    "mdEdxtimesdxsumperlayer.loc[mdEdxtimesdxsumperlayer[\"layer\"] == 47.0, \"dedxweights\"] = 83.328143\n",
    "mdEdxtimesdxsumperlayer_detailedtable.loc[mdEdxtimesdxsumperlayer_detailedtable[\"layer\"] == 52.0, \"dedxweights_detailedsimulationtable\"] = 91.800143\n",
    "mdEdxtimesdxsumperlayer_detailedfull.loc[mdEdxtimesdxsumperlayer_detailedfull[\"layer\"] == 52.0, \"dedxweights_detailedsimulationfull\"] = 98.971647\n",
    "\n",
    "#Drop duplicates not needed columns\n",
    "mdEdxtimesdxsumperlayer_detailedtable = mdEdxtimesdxsumperlayer_detailedtable.drop(['tracknum', 'layer'], axis=1)\n",
    "mdEdxtimesdxsumperlayer_detailedfull = mdEdxtimesdxsumperlayer_detailedfull.drop(['tracknum', 'layer'], axis=1)\n",
    "\n",
    "#mdEdxtimesdxsumperlayer[ mdEdxtimesdxsumperlayer['tracknum'] == 6.0  ]\n",
    "#mdEdxtimesdxsumperlayer_detailed[ mdEdxtimesdxsumperlayer_detailed['tracknum'] == 6.0  ]\n",
    "mdEdxtimesdxsumperlayer = pd.concat([mdEdxtimesdxsumperlayer, mdEdxtimesdxsumperlayer_detailedtable, mdEdxtimesdxsumperlayer_detailedfull], axis=1)\n",
    "mdEdxtimesdxsumperlayer = mdEdxtimesdxsumperlayer.dropna()\n",
    "\n",
    "#Adding two columns dedxtable/dedxtheory and dedxfull/dedxtheory\n",
    "mdEdxtimesdxsumperlayer[\"EtableoverEtheory\"] = mdEdxtimesdxsumperlayer[\"Etable\"]/mdEdxtimesdxsumperlayer[\"dEdxtimesdx\"]\n",
    "mdEdxtimesdxsumperlayer[\"EfulloverEtheory\"] = mdEdxtimesdxsumperlayer[\"Efull\"]/mdEdxtimesdxsumperlayer[\"dEdxtimesdx\"]\n",
    "mdEdxtimesdxsumperlayer[ mdEdxtimesdxsumperlayer['tracknum'] == 6.0  ][:-1].dropna()"
   ]
  },
  {
   "cell_type": "code",
   "execution_count": null,
   "metadata": {},
   "outputs": [],
   "source": [
    "mdEdxtimesdxsumperlayer[[\"layer\",\"EtableoverEtheory\",\"EfulloverEtheory\"]][ mdEdxtimesdxsumperlayer['tracknum'] == 6.0  ][:-1] "
   ]
  },
  {
   "cell_type": "code",
   "execution_count": null,
   "metadata": {},
   "outputs": [],
   "source": [
    "pd.options.display.float_format = '{:,.2f}'.format\n",
    "\n",
    "mdEdxtimesdxsumperlayer[[\"layer\",\"dEdxtimesdx\",\"dedxweights\",\"dedxweights_detailedsimulationtable\",\"dedxweights_detailedsimulationfull\"]][ mdEdxtimesdxsumperlayer['tracknum'] == 6.0  ][:-1] "
   ]
  },
  {
   "cell_type": "code",
   "execution_count": null,
   "metadata": {},
   "outputs": [],
   "source": [
    "forthededxtable = mdEdxtimesdxsumperlayer[[\"layer\",\"dEdxtimesdx\",\"dEdxtimesdxCum\",\"EtableCum\",\"EfullCum\"]][ mdEdxtimesdxsumperlayer['tracknum'] == 6.0  ][:-1] \n",
    "\n",
    "pd.options.display.float_format = '{:,.2f}'.format\n",
    "\n",
    "mdEdxtimesdxsumperlayer[[\"layer\",\"dedxweights\"]][ mdEdxtimesdxsumperlayer['tracknum'] == 6.0  ][:-1] "
   ]
  },
  {
   "cell_type": "code",
   "execution_count": null,
   "metadata": {},
   "outputs": [],
   "source": [
    "forthededxtable[[\"layer\",\"dEdxtimesdxCum\"]]\n",
    "forthededxtable[[\"layer\",\"dEdxtimesdxCum\"]].round(3).to_csv(r'/eos/user/a/apsallid/www/%s.cumulative.dedx'%(scenario), header=None, index=None, sep=' ', mode='w')\n",
    "forthededxweights = mdEdxtimesdxsumperlayer[[\"layer\",\"dedxweights\"]][ mdEdxtimesdxsumperlayer['tracknum'] == 6.0  ][:-1] \n",
    "forthededxweights[[\"layer\",\"dedxweights\"]].round(2).to_csv(r'/eos/user/a/apsallid/www/%s.dedx.weights'%(scenario), header=None, index=None, sep=' ', mode='w')\n",
    "forthededxperlayer = mdEdxtimesdxsumperlayer[[\"layer\",\"dEdxtimesdx\"]][ mdEdxtimesdxsumperlayer['tracknum'] == 6.0  ][:-1]\n",
    "forthededxperlayer[[\"layer\",\"dEdxtimesdx\"]].round(2).to_csv(r'/eos/user/a/apsallid/www/%s.dedx.perlayer'%(scenario), header=None, index=None, sep=' ', mode='w')"
   ]
  },
  {
   "cell_type": "code",
   "execution_count": null,
   "metadata": {},
   "outputs": [],
   "source": []
  }
 ],
 "metadata": {
  "kernelspec": {
   "display_name": "Python 3",
   "language": "python",
   "name": "python3"
  },
  "language_info": {
   "codemirror_mode": {
    "name": "ipython",
    "version": 3
   },
   "file_extension": ".py",
   "mimetype": "text/x-python",
   "name": "python",
   "nbconvert_exporter": "python",
   "pygments_lexer": "ipython3",
   "version": "3.9.6"
  }
 },
 "nbformat": 4,
 "nbformat_minor": 2
}
